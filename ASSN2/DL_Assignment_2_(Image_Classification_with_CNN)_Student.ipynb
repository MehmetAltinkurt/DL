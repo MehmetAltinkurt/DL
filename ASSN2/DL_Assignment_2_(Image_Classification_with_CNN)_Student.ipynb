{
  "cells": [
    {
      "cell_type": "markdown",
      "metadata": {
        "id": "view-in-github",
        "colab_type": "text"
      },
      "source": [
        "<a href=\"https://colab.research.google.com/github/MehmetAltinkurt/DL/blob/main/ASSN2/DL_Assignment_2_(Image_Classification_with_CNN)_Student.ipynb\" target=\"_parent\"><img src=\"https://colab.research.google.com/assets/colab-badge.svg\" alt=\"Open In Colab\"/></a>"
      ]
    },
    {
      "cell_type": "markdown",
      "metadata": {
        "id": "c3IvfuOPPIPb"
      },
      "source": [
        "___\n",
        "\n",
        "<p style=\"text-align: center;\"><img src=\"https://docs.google.com/uc?id=1lY0Uj5R04yMY3-ZppPWxqCr5pvBLYPnV\" class=\"img-fluid\" alt=\"CLRSWY\"></p>\n",
        "\n",
        "___"
      ]
    },
    {
      "cell_type": "markdown",
      "metadata": {
        "id": "SSE3jXsNPIPd"
      },
      "source": [
        "<h1 style=\"text-align: center;\">Deep Learning<br><br>Assignment-2 (CNN)<br><br>Image Classification with CNN<br><h1>"
      ]
    },
    {
      "cell_type": "markdown",
      "metadata": {
        "id": "0MDRo4OYPIPe"
      },
      "source": [
        "# Task and Dataset Info\n",
        "\n",
        "Welcome to second assignment of Deep learning lesson. Follow the instructions and complete the assignment.\n",
        "\n",
        "**Build an image classifier with Convolutional Neural Networks for the Fashion MNIST dataset. This data set includes 10 labels of different clothing types with 28 by 28 *grayscale* images. There is a training set of 60,000 images and 10,000 test images.**\n",
        "\n",
        "    Label\tDescription\n",
        "    0\t    T-shirt/top\n",
        "    1\t    Trouser\n",
        "    2\t    Pullover\n",
        "    3\t    Dress\n",
        "    4\t    Coat\n",
        "    5\t    Sandal\n",
        "    6\t    Shirt\n",
        "    7\t    Sneaker\n",
        "    8\t    Bag\n",
        "    9\t    Ankle boot"
      ]
    },
    {
      "cell_type": "markdown",
      "metadata": {
        "id": "NUi_cN8FPIPe"
      },
      "source": [
        "# Import Libraries"
      ]
    },
    {
      "cell_type": "code",
      "execution_count": null,
      "metadata": {
        "id": "ecNeE624PIPf"
      },
      "outputs": [],
      "source": [
        "import numpy as np\n",
        "import pandas as pd\n",
        "import matplotlib.pyplot as plt\n",
        "import seaborn as sns\n",
        "\n",
        "import warnings\n",
        "warnings.filterwarnings(\"ignore\")\n",
        "warnings.warn(\"this will not show\")\n",
        "\n",
        "plt.rcParams[\"figure.figsize\"] = (10,6)\n",
        "\n",
        "sns.set_style(\"whitegrid\")\n",
        "pd.set_option('display.float_format', lambda x: '%.3f' % x)\n",
        "\n",
        "# Set it None to display all rows in the dataframe\n",
        "# pd.set_option('display.max_rows', None)\n",
        "\n",
        "# Set it to None to display all columns in the dataframe\n",
        "pd.set_option('display.max_columns', None)"
      ]
    },
    {
      "cell_type": "markdown",
      "metadata": {
        "id": "PWbIgpwZPIPf"
      },
      "source": [
        "# Recognizing and Understanding Data\n",
        "\n",
        "**TASK 1: Run the code below to download the dataset using Keras.**"
      ]
    },
    {
      "cell_type": "code",
      "execution_count": null,
      "metadata": {
        "colab": {
          "base_uri": "https://localhost:8080/"
        },
        "id": "JdT4iw_nPIPf",
        "outputId": "8b64f13a-d04b-442c-9c18-62f3ac3a8204"
      },
      "outputs": [
        {
          "output_type": "stream",
          "name": "stdout",
          "text": [
            "Downloading data from https://storage.googleapis.com/tensorflow/tf-keras-datasets/train-labels-idx1-ubyte.gz\n",
            "29515/29515 [==============================] - 0s 0us/step\n",
            "Downloading data from https://storage.googleapis.com/tensorflow/tf-keras-datasets/train-images-idx3-ubyte.gz\n",
            "26421880/26421880 [==============================] - 0s 0us/step\n",
            "Downloading data from https://storage.googleapis.com/tensorflow/tf-keras-datasets/t10k-labels-idx1-ubyte.gz\n",
            "5148/5148 [==============================] - 0s 0us/step\n",
            "Downloading data from https://storage.googleapis.com/tensorflow/tf-keras-datasets/t10k-images-idx3-ubyte.gz\n",
            "4422102/4422102 [==============================] - 0s 0us/step\n"
          ]
        }
      ],
      "source": [
        "from tensorflow.keras.datasets import fashion_mnist\n",
        "\n",
        "(x_train, y_train), (x_test, y_test) = fashion_mnist.load_data()"
      ]
    },
    {
      "cell_type": "code",
      "source": [
        "import tensorflow as tf\n",
        "\n",
        "tf.config.list_physical_devices(\"GPU\")"
      ],
      "metadata": {
        "colab": {
          "base_uri": "https://localhost:8080/"
        },
        "id": "1wzaVwM6RDhK",
        "outputId": "3bc3958f-df3d-4fc0-8fd0-4dc21028ba1a"
      },
      "execution_count": null,
      "outputs": [
        {
          "output_type": "execute_result",
          "data": {
            "text/plain": [
              "[]"
            ]
          },
          "metadata": {},
          "execution_count": 8
        }
      ]
    },
    {
      "cell_type": "code",
      "execution_count": null,
      "metadata": {
        "colab": {
          "base_uri": "https://localhost:8080/"
        },
        "id": "rPZYOa4SPIPg",
        "outputId": "e533d2fb-1b8c-41e1-efd4-6dbbc26fc725"
      },
      "outputs": [
        {
          "output_type": "execute_result",
          "data": {
            "text/plain": [
              "(60000, 28, 28)"
            ]
          },
          "metadata": {},
          "execution_count": 3
        }
      ],
      "source": [
        "x_train.shape"
      ]
    },
    {
      "cell_type": "code",
      "execution_count": null,
      "metadata": {
        "colab": {
          "base_uri": "https://localhost:8080/"
        },
        "id": "v3fmBdLYPIPg",
        "outputId": "06b8c8e4-01a1-4144-ba54-4d676963bbc4"
      },
      "outputs": [
        {
          "output_type": "execute_result",
          "data": {
            "text/plain": [
              "(10000, 28, 28)"
            ]
          },
          "metadata": {},
          "execution_count": 4
        }
      ],
      "source": [
        "x_test.shape"
      ]
    },
    {
      "cell_type": "markdown",
      "metadata": {
        "id": "vfRB1oV_PIPg"
      },
      "source": [
        "**TASK 2: Use matplotlib to view an image from the data set. It can be any image from the data set.**"
      ]
    },
    {
      "cell_type": "code",
      "execution_count": null,
      "metadata": {
        "id": "HEya4QOhPIPg"
      },
      "outputs": [],
      "source": [
        "classes=[\"T-shirt/top\", \"Trouser\",\"Pullover\",\"Dress\",\"Coat\",\"Sandal\",\"Shirt\",\"Sneaker\",\"Bag\",\"Ankle boot\"]"
      ]
    },
    {
      "cell_type": "code",
      "execution_count": null,
      "metadata": {
        "colab": {
          "base_uri": "https://localhost:8080/",
          "height": 391
        },
        "id": "pFPWnsa3PIPh",
        "outputId": "2f050f43-5f99-4ac9-a45b-87e88cb683c0"
      },
      "outputs": [
        {
          "output_type": "execute_result",
          "data": {
            "text/plain": [
              "<matplotlib.image.AxesImage at 0x7fbf09f00070>"
            ]
          },
          "metadata": {},
          "execution_count": 5
        },
        {
          "output_type": "display_data",
          "data": {
            "text/plain": [
              "<Figure size 720x432 with 1 Axes>"
            ],
            "image/png": "[encoded data removed]"
          },
          "metadata": {}
        }
      ],
      "source": [
        "plt.imshow(x_train[0])"
      ]
    },
    {
      "cell_type": "code",
      "execution_count": null,
      "metadata": {
        "colab": {
          "base_uri": "https://localhost:8080/"
        },
        "id": "M1bmN2rRPIPh",
        "outputId": "f1afc08d-980d-4b13-ad30-45c16af8254f"
      },
      "outputs": [
        {
          "output_type": "execute_result",
          "data": {
            "text/plain": [
              "9"
            ]
          },
          "metadata": {},
          "execution_count": 7
        }
      ],
      "source": [
        "y_train[0]"
      ]
    },
    {
      "cell_type": "code",
      "source": [
        "plt.imshow(x_train[1])"
      ],
      "metadata": {
        "colab": {
          "base_uri": "https://localhost:8080/",
          "height": 391
        },
        "id": "kKdb2_NjR0re",
        "outputId": "0f289c66-86fe-4c1d-9da4-84b13981c43b"
      },
      "execution_count": null,
      "outputs": [
        {
          "output_type": "execute_result",
          "data": {
            "text/plain": [
              "<matplotlib.image.AxesImage at 0x7fbf069738b0>"
            ]
          },
          "metadata": {},
          "execution_count": 10
        },
        {
          "output_type": "display_data",
          "data": {
            "text/plain": [
              "<Figure size 720x432 with 1 Axes>"
            ],
            "image/png": "[encoded data removed]"
          },
          "metadata": {}
        }
      ]
    },
    {
      "cell_type": "code",
      "source": [
        "classes[y_train[1]]"
      ],
      "metadata": {
        "colab": {
          "base_uri": "https://localhost:8080/",
          "height": 35
        },
        "id": "NlkTPMg6R1zL",
        "outputId": "3a7410c5-6757-4ff1-f76a-5992eff5f27f"
      },
      "execution_count": null,
      "outputs": [
        {
          "output_type": "execute_result",
          "data": {
            "text/plain": [
              "'T-shirt/top'"
            ],
            "application/vnd.google.colaboratory.intrinsic+json": {
              "type": "string"
            }
          },
          "metadata": {},
          "execution_count": 11
        }
      ]
    },
    {
      "cell_type": "code",
      "source": [
        "plt.figure(figsize=(20, 20))\n",
        "for i in range(64):\n",
        "    rand_index = int(np.random.randint(low=0, high=50000, size=1))\n",
        "    plt.subplot(8, 8, i+1)\n",
        "    plt.axis('off')\n",
        "    plt.title(classes[int(y_train[rand_index])])\n",
        "    plt.imshow(x_train[rand_index])"
      ],
      "metadata": {
        "colab": {
          "base_uri": "https://localhost:8080/",
          "height": 1000
        },
        "id": "-oB8GIgQR117",
        "outputId": "364a80b5-6d71-48c2-8ae1-e7e118250c88"
      },
      "execution_count": null,
      "outputs": [
        {
          "output_type": "display_data",
          "data": {
            "text/plain": [
              "<Figure size 1440x1440 with 64 Axes>"
            ],
            "image/png": "[encoded data removed]"
          },
          "metadata": {}
        }
      ]
    },
    {
      "cell_type": "code",
      "execution_count": null,
      "metadata": {
        "colab": {
          "base_uri": "https://localhost:8080/"
        },
        "id": "HvYmn3rZPIPh",
        "outputId": "55ccd1d0-7af4-4f7c-c72e-99c8b91c52b2"
      },
      "outputs": [
        {
          "output_type": "execute_result",
          "data": {
            "text/plain": [
              "(array([0, 1, 2, 3, 4, 5, 6, 7, 8, 9], dtype=uint8),\n",
              " array([6000, 6000, 6000, 6000, 6000, 6000, 6000, 6000, 6000, 6000]))"
            ]
          },
          "metadata": {},
          "execution_count": 9
        }
      ],
      "source": [
        "np.unique(y_train, return_counts=True)"
      ]
    },
    {
      "cell_type": "markdown",
      "metadata": {
        "id": "hHRqf1bAPIPh"
      },
      "source": [
        "# Data Preprocessing\n",
        "\n",
        "**TASK 3: Normalize the X train and X test data by dividing by the max value of the image arrays.**"
      ]
    },
    {
      "cell_type": "code",
      "source": [
        "x_train[5]"
      ],
      "metadata": {
        "colab": {
          "base_uri": "https://localhost:8080/"
        },
        "id": "ngKYmyQWTWaK",
        "outputId": "edaa73ca-d796-4ea1-80e1-06b29e40a73a"
      },
      "execution_count": null,
      "outputs": [
        {
          "output_type": "execute_result",
          "data": {
            "text/plain": [
              "array([[0.        , 0.        , 0.        , 0.        , 0.00392157,\n",
              "        0.        , 0.        , 0.        , 0.        , 0.08627451,\n",
              "        0.34509805, 0.7372549 , 0.6745098 , 0.5176471 , 0.49019608,\n",
              "        0.5529412 , 0.78039217, 0.56078434, 0.03529412, 0.        ,\n",
              "        0.        , 0.        , 0.00392157, 0.        , 0.        ,\n",
              "        0.        , 0.        , 0.        ],\n",
              "       [0.        , 0.        , 0.        , 0.00392157, 0.        ,\n",
              "        0.        , 0.07843138, 0.5137255 , 0.78039217, 0.80784315,\n",
              "        0.76862746, 0.7921569 , 0.9490196 , 1.        , 1.        ,\n",
              "        0.98039216, 0.87058824, 0.77254903, 0.80784315, 0.7372549 ,\n",
              "        0.49411765, 0.06666667, 0.        , 0.        , 0.        ,\n",
              "        0.        , 0.        , 0.        ],\n",
              "       [0.        , 0.        , 0.        , 0.00392157, 0.        ,\n",
              "        0.13725491, 0.8392157 , 0.7490196 , 0.7176471 , 0.69803923,\n",
              "        0.6862745 , 0.65882355, 0.5882353 , 0.63529414, 0.62352943,\n",
              "        0.59607846, 0.61960787, 0.7019608 , 0.7176471 , 0.7411765 ,\n",
              "        0.7647059 , 0.7254902 , 0.32156864, 0.        , 0.        ,\n",
              "        0.        , 0.        , 0.        ],\n",
              "       [0.        , 0.        , 0.        , 0.        , 0.        ,\n",
              "        0.6666667 , 0.74509805, 0.6745098 , 0.69411767, 0.6901961 ,\n",
              "        0.67058825, 0.6627451 , 0.63529414, 0.60784316, 0.5803922 ,\n",
              "        0.6039216 , 0.6627451 , 0.68235296, 0.6862745 , 0.6862745 ,\n",
              "        0.69411767, 0.7176471 , 0.7372549 , 0.04705882, 0.        ,\n",
              "        0.        , 0.        , 0.        ],\n",
              "       [0.        , 0.        , 0.        , 0.        , 0.09803922,\n",
              "        0.7607843 , 0.7058824 , 0.69803923, 0.68235296, 0.72156864,\n",
              "        0.73333335, 0.7411765 , 0.73333335, 0.72156864, 0.70980394,\n",
              "        0.7411765 , 0.78431374, 0.77254903, 0.75686276, 0.74509805,\n",
              "        0.69803923, 0.6862745 , 0.7607843 , 0.3529412 , 0.        ,\n",
              "        0.        , 0.        , 0.        ],\n",
              "       [0.        , 0.        , 0.        , 0.        , 0.16470589,\n",
              "        0.85490197, 0.7490196 , 0.77254903, 0.8156863 , 0.8       ,\n",
              "        0.827451  , 0.81960785, 0.8235294 , 0.83137256, 0.827451  ,\n",
              "        0.8392157 , 0.84313726, 0.8352941 , 0.8392157 , 0.827451  ,\n",
              "        0.827451  , 0.7490196 , 0.78431374, 0.61960787, 0.        ,\n",
              "        0.        , 0.        , 0.        ],\n",
              "       [0.        , 0.        , 0.        , 0.        , 0.34509805,\n",
              "        0.8666667 , 0.84313726, 0.8509804 , 0.85882354, 0.827451  ,\n",
              "        0.7254902 , 0.5882353 , 0.4627451 , 0.41960785, 0.3882353 ,\n",
              "        0.34509805, 0.3254902 , 0.3529412 , 0.5294118 , 0.83137256,\n",
              "        0.79607844, 0.8117647 , 0.85882354, 0.6627451 , 0.        ,\n",
              "        0.        , 0.        , 0.        ],\n",
              "       [0.        , 0.        , 0.        , 0.        , 0.        ,\n",
              "        0.10588235, 0.4627451 , 0.63529414, 0.15686275, 0.        ,\n",
              "        0.        , 0.        , 0.03921569, 0.07450981, 0.10980392,\n",
              "        0.15294118, 0.18431373, 0.14117648, 0.        , 0.        ,\n",
              "        0.79607844, 0.9019608 , 0.8627451 , 0.79607844, 0.        ,\n",
              "        0.        , 0.        , 0.        ],\n",
              "       [0.        , 0.        , 0.        , 0.        , 0.5411765 ,\n",
              "        0.53333336, 0.2784314 , 0.27058825, 0.21176471, 0.84705883,\n",
              "        0.8509804 , 0.79607844, 0.72156864, 0.65882355, 0.6392157 ,\n",
              "        0.63529414, 0.6392157 , 0.69803923, 0.8666667 , 0.7294118 ,\n",
              "        0.14901961, 0.10196079, 0.02745098, 0.        , 0.        ,\n",
              "        0.        , 0.        , 0.        ],\n",
              "       [0.        , 0.        , 0.        , 0.        , 0.2627451 ,\n",
              "        0.5254902 , 0.6039216 , 0.8784314 , 0.5058824 , 0.25882354,\n",
              "        0.31764707, 0.45882353, 0.5058824 , 0.5019608 , 0.5176471 ,\n",
              "        0.5372549 , 0.5137255 , 0.5058824 , 0.3372549 , 0.28627452,\n",
              "        0.6156863 , 0.5921569 , 0.5254902 , 0.84705883, 0.07058824,\n",
              "        0.        , 0.        , 0.        ],\n",
              "       [0.        , 0.        , 0.        , 0.        , 0.79607844,\n",
              "        0.7764706 , 0.6745098 , 0.7176471 , 0.80784315, 1.        ,\n",
              "        1.        , 0.98039216, 0.9529412 , 0.9411765 , 0.9372549 ,\n",
              "        0.92156863, 0.93333334, 0.95686275, 1.        , 0.93333334,\n",
              "        0.72156864, 0.627451  , 0.3372549 , 0.38431373, 0.        ,\n",
              "        0.        , 0.        , 0.        ],\n",
              "       [0.        , 0.        , 0.        , 0.        , 0.47843137,\n",
              "        0.7372549 , 0.8784314 , 0.5921569 , 0.4117647 , 0.49803922,\n",
              "        0.38039216, 0.39215687, 0.4117647 , 0.44705883, 0.45882353,\n",
              "        0.45882353, 0.44313726, 0.40392157, 0.38431373, 0.43529412,\n",
              "        0.5568628 , 0.99607843, 0.7490196 , 1.        , 0.19215687,\n",
              "        0.        , 0.        , 0.        ],\n",
              "       [0.        , 0.        , 0.        , 0.        , 0.6392157 ,\n",
              "        0.7019608 , 0.78431374, 0.37254903, 0.6039216 , 0.7764706 ,\n",
              "        0.77254903, 0.78431374, 0.78431374, 0.7764706 , 0.77254903,\n",
              "        0.7764706 , 0.78039217, 0.7921569 , 0.78431374, 0.6901961 ,\n",
              "        0.3372549 , 0.80784315, 0.6156863 , 0.63529414, 0.03921569,\n",
              "        0.        , 0.        , 0.        ],\n",
              "       [0.        , 0.        , 0.        , 0.        , 0.77254903,\n",
              "        0.7882353 , 0.8980392 , 0.2784314 , 0.5647059 , 0.7607843 ,\n",
              "        0.70980394, 0.7176471 , 0.7019608 , 0.7137255 , 0.7058824 ,\n",
              "        0.7019608 , 0.7058824 , 0.74509805, 0.7254902 , 0.77254903,\n",
              "        0.29803923, 0.85882354, 0.7254902 , 0.7882353 , 0.13333334,\n",
              "        0.        , 0.        , 0.        ],\n",
              "       [0.        , 0.        , 0.        , 0.        , 0.78039217,\n",
              "        0.75686276, 0.8862745 , 0.22745098, 0.6039216 , 0.7529412 ,\n",
              "        0.72156864, 0.73333335, 0.72156864, 0.7294118 , 0.72156864,\n",
              "        0.7254902 , 0.7176471 , 0.7529412 , 0.7490196 , 0.78431374,\n",
              "        0.21960784, 0.85882354, 0.79607844, 0.8117647 , 0.23529412,\n",
              "        0.        , 0.        , 0.        ],\n",
              "       [0.        , 0.        , 0.        , 0.        , 0.7882353 ,\n",
              "        0.7607843 , 0.8784314 , 0.16078432, 0.6392157 , 0.74509805,\n",
              "        0.7294118 , 0.7294118 , 0.72156864, 0.7254902 , 0.7176471 ,\n",
              "        0.7254902 , 0.69803923, 0.74509805, 0.7607843 , 0.7921569 ,\n",
              "        0.12941177, 0.827451  , 0.78431374, 0.80784315, 0.28627452,\n",
              "        0.        , 0.        , 0.        ],\n",
              "       [0.        , 0.        , 0.        , 0.        , 0.7882353 ,\n",
              "        0.77254903, 0.87058824, 0.06666667, 0.6745098 , 0.74509805,\n",
              "        0.7294118 , 0.73333335, 0.7137255 , 0.7294118 , 0.7254902 ,\n",
              "        0.73333335, 0.7058824 , 0.73333335, 0.75686276, 0.7921569 ,\n",
              "        0.10196079, 0.83137256, 0.7921569 , 0.79607844, 0.29803923,\n",
              "        0.        , 0.        , 0.        ],\n",
              "       [0.        , 0.        , 0.        , 0.        , 0.78431374,\n",
              "        0.77254903, 0.8745098 , 0.        , 0.69411767, 0.7411765 ,\n",
              "        0.72156864, 0.7254902 , 0.69803923, 0.72156864, 0.7176471 ,\n",
              "        0.72156864, 0.7058824 , 0.7176471 , 0.7411765 , 0.79607844,\n",
              "        0.13725491, 0.76862746, 0.79607844, 0.79607844, 0.32941177,\n",
              "        0.        , 0.        , 0.        ],\n",
              "       [0.        , 0.        , 0.        , 0.        , 0.78431374,\n",
              "        0.77254903, 0.8745098 , 0.        , 0.7254902 , 0.73333335,\n",
              "        0.7254902 , 0.73333335, 0.7058824 , 0.72156864, 0.7137255 ,\n",
              "        0.7176471 , 0.69803923, 0.7137255 , 0.7176471 , 0.8039216 ,\n",
              "        0.17254902, 0.62352943, 0.8117647 , 0.7882353 , 0.33333334,\n",
              "        0.        , 0.        , 0.        ],\n",
              "       [0.        , 0.        , 0.        , 0.        , 0.73333335,\n",
              "        0.7764706 , 0.88235295, 0.        , 0.7607843 , 0.7372549 ,\n",
              "        0.72156864, 0.7254902 , 0.7058824 , 0.7176471 , 0.7176471 ,\n",
              "        0.72156864, 0.70980394, 0.70980394, 0.69411767, 0.80784315,\n",
              "        0.18039216, 0.5058824 , 0.827451  , 0.78431374, 0.34509805,\n",
              "        0.        , 0.        , 0.        ],\n",
              "       [0.        , 0.        , 0.        , 0.02352941, 0.7294118 ,\n",
              "        0.78431374, 0.827451  , 0.        , 0.78039217, 0.7411765 ,\n",
              "        0.72156864, 0.72156864, 0.7254902 , 0.7137255 , 0.7176471 ,\n",
              "        0.72156864, 0.7254902 , 0.7137255 , 0.6862745 , 0.8039216 ,\n",
              "        0.19607843, 0.38039216, 0.84705883, 0.77254903, 0.3647059 ,\n",
              "        0.        , 0.        , 0.        ],\n",
              "       [0.        , 0.        , 0.        , 0.01960784, 0.7254902 ,\n",
              "        0.8       , 0.72156864, 0.        , 0.7921569 , 0.7372549 ,\n",
              "        0.7137255 , 0.7137255 , 0.7176471 , 0.7176471 , 0.72156864,\n",
              "        0.7137255 , 0.7058824 , 0.7137255 , 0.68235296, 0.7921569 ,\n",
              "        0.24705882, 0.23137255, 0.8627451 , 0.76862746, 0.36862746,\n",
              "        0.        , 0.        , 0.        ],\n",
              "       [0.        , 0.        , 0.        , 0.01960784, 0.72156864,\n",
              "        0.80784315, 0.6156863 , 0.        , 0.8       , 0.73333335,\n",
              "        0.73333335, 0.7411765 , 0.7529412 , 0.74509805, 0.74509805,\n",
              "        0.7490196 , 0.74509805, 0.73333335, 0.7176471 , 0.7921569 ,\n",
              "        0.30588236, 0.13725491, 0.87058824, 0.77254903, 0.37254903,\n",
              "        0.        , 0.        , 0.        ],\n",
              "       [0.        , 0.        , 0.        , 0.01960784, 0.7176471 ,\n",
              "        0.8156863 , 0.49803922, 0.        , 0.77254903, 0.6509804 ,\n",
              "        0.6       , 0.58431375, 0.58431375, 0.57254905, 0.5803922 ,\n",
              "        0.58431375, 0.5882353 , 0.5921569 , 0.61960787, 0.7490196 ,\n",
              "        0.3529412 , 0.03137255, 0.8745098 , 0.7647059 , 0.3882353 ,\n",
              "        0.        , 0.        , 0.        ],\n",
              "       [0.        , 0.        , 0.        , 0.02352941, 0.72156864,\n",
              "        0.8156863 , 0.44705883, 0.        , 0.8       , 0.6784314 ,\n",
              "        0.6313726 , 0.7058824 , 0.6901961 , 0.6745098 , 0.6784314 ,\n",
              "        0.6784314 , 0.68235296, 0.6901961 , 0.63529414, 0.7921569 ,\n",
              "        0.4509804 , 0.        , 0.8980392 , 0.78039217, 0.4117647 ,\n",
              "        0.        , 0.        , 0.        ],\n",
              "       [0.        , 0.        , 0.        , 0.03529412, 0.69803923,\n",
              "        0.8       , 0.4509804 , 0.        , 0.4745098 , 0.5294118 ,\n",
              "        0.44705883, 0.45882353, 0.44705883, 0.44705883, 0.45882353,\n",
              "        0.4627451 , 0.46666667, 0.45882353, 0.44313726, 0.5764706 ,\n",
              "        0.24705882, 0.        , 0.88235295, 0.76862746, 0.41960785,\n",
              "        0.        , 0.        , 0.        ],\n",
              "       [0.        , 0.        , 0.        , 0.07058824, 0.7058824 ,\n",
              "        0.80784315, 0.5137255 , 0.        , 0.        , 0.        ,\n",
              "        0.        , 0.        , 0.        , 0.        , 0.        ,\n",
              "        0.        , 0.        , 0.        , 0.        , 0.        ,\n",
              "        0.        , 0.        , 0.8784314 , 0.77254903, 0.48235294,\n",
              "        0.        , 0.        , 0.        ],\n",
              "       [0.        , 0.        , 0.        , 0.        , 0.5529412 ,\n",
              "        0.5921569 , 0.29803923, 0.        , 0.00392157, 0.00392157,\n",
              "        0.        , 0.        , 0.        , 0.        , 0.        ,\n",
              "        0.        , 0.        , 0.        , 0.        , 0.        ,\n",
              "        0.        , 0.        , 0.52156866, 0.654902  , 0.28627452,\n",
              "        0.        , 0.        , 0.        ]], dtype=float32)"
            ]
          },
          "metadata": {},
          "execution_count": 20
        }
      ]
    },
    {
      "cell_type": "code",
      "execution_count": null,
      "metadata": {
        "colab": {
          "base_uri": "https://localhost:8080/"
        },
        "id": "VE_ZUUawPIPh",
        "outputId": "8287003c-3da8-4ad4-d09a-89868e8e6562"
      },
      "outputs": [
        {
          "output_type": "execute_result",
          "data": {
            "text/plain": [
              "255"
            ]
          },
          "metadata": {},
          "execution_count": 15
        }
      ],
      "source": [
        "x_train[5].max()"
      ]
    },
    {
      "cell_type": "code",
      "execution_count": null,
      "metadata": {
        "id": "stIwIg3xPIPi"
      },
      "outputs": [],
      "source": [
        "# Normalize image pixels\n",
        "\n",
        "x_train = x_train.astype('float32')\n",
        "x_test = x_test.astype('float32')\n",
        "x_train /= 255\n",
        "x_test /= 255"
      ]
    },
    {
      "cell_type": "code",
      "execution_count": null,
      "metadata": {
        "colab": {
          "base_uri": "https://localhost:8080/"
        },
        "id": "afIOjef8PIPi",
        "outputId": "f613448c-5f88-47fa-85db-4094f96af100"
      },
      "outputs": [
        {
          "output_type": "execute_result",
          "data": {
            "text/plain": [
              "array([[0.        , 0.        , 0.        , 0.        , 0.00392157,\n",
              "        0.        , 0.        , 0.        , 0.        , 0.08627451,\n",
              "        0.34509805, 0.7372549 , 0.6745098 , 0.5176471 , 0.49019608,\n",
              "        0.5529412 , 0.78039217, 0.56078434, 0.03529412, 0.        ,\n",
              "        0.        , 0.        , 0.00392157, 0.        , 0.        ,\n",
              "        0.        , 0.        , 0.        ],\n",
              "       [0.        , 0.        , 0.        , 0.00392157, 0.        ,\n",
              "        0.        , 0.07843138, 0.5137255 , 0.78039217, 0.80784315,\n",
              "        0.76862746, 0.7921569 , 0.9490196 , 1.        , 1.        ,\n",
              "        0.98039216, 0.87058824, 0.77254903, 0.80784315, 0.7372549 ,\n",
              "        0.49411765, 0.06666667, 0.        , 0.        , 0.        ,\n",
              "        0.        , 0.        , 0.        ],\n",
              "       [0.        , 0.        , 0.        , 0.00392157, 0.        ,\n",
              "        0.13725491, 0.8392157 , 0.7490196 , 0.7176471 , 0.69803923,\n",
              "        0.6862745 , 0.65882355, 0.5882353 , 0.63529414, 0.62352943,\n",
              "        0.59607846, 0.61960787, 0.7019608 , 0.7176471 , 0.7411765 ,\n",
              "        0.7647059 , 0.7254902 , 0.32156864, 0.        , 0.        ,\n",
              "        0.        , 0.        , 0.        ],\n",
              "       [0.        , 0.        , 0.        , 0.        , 0.        ,\n",
              "        0.6666667 , 0.74509805, 0.6745098 , 0.69411767, 0.6901961 ,\n",
              "        0.67058825, 0.6627451 , 0.63529414, 0.60784316, 0.5803922 ,\n",
              "        0.6039216 , 0.6627451 , 0.68235296, 0.6862745 , 0.6862745 ,\n",
              "        0.69411767, 0.7176471 , 0.7372549 , 0.04705882, 0.        ,\n",
              "        0.        , 0.        , 0.        ],\n",
              "       [0.        , 0.        , 0.        , 0.        , 0.09803922,\n",
              "        0.7607843 , 0.7058824 , 0.69803923, 0.68235296, 0.72156864,\n",
              "        0.73333335, 0.7411765 , 0.73333335, 0.72156864, 0.70980394,\n",
              "        0.7411765 , 0.78431374, 0.77254903, 0.75686276, 0.74509805,\n",
              "        0.69803923, 0.6862745 , 0.7607843 , 0.3529412 , 0.        ,\n",
              "        0.        , 0.        , 0.        ],\n",
              "       [0.        , 0.        , 0.        , 0.        , 0.16470589,\n",
              "        0.85490197, 0.7490196 , 0.77254903, 0.8156863 , 0.8       ,\n",
              "        0.827451  , 0.81960785, 0.8235294 , 0.83137256, 0.827451  ,\n",
              "        0.8392157 , 0.84313726, 0.8352941 , 0.8392157 , 0.827451  ,\n",
              "        0.827451  , 0.7490196 , 0.78431374, 0.61960787, 0.        ,\n",
              "        0.        , 0.        , 0.        ],\n",
              "       [0.        , 0.        , 0.        , 0.        , 0.34509805,\n",
              "        0.8666667 , 0.84313726, 0.8509804 , 0.85882354, 0.827451  ,\n",
              "        0.7254902 , 0.5882353 , 0.4627451 , 0.41960785, 0.3882353 ,\n",
              "        0.34509805, 0.3254902 , 0.3529412 , 0.5294118 , 0.83137256,\n",
              "        0.79607844, 0.8117647 , 0.85882354, 0.6627451 , 0.        ,\n",
              "        0.        , 0.        , 0.        ],\n",
              "       [0.        , 0.        , 0.        , 0.        , 0.        ,\n",
              "        0.10588235, 0.4627451 , 0.63529414, 0.15686275, 0.        ,\n",
              "        0.        , 0.        , 0.03921569, 0.07450981, 0.10980392,\n",
              "        0.15294118, 0.18431373, 0.14117648, 0.        , 0.        ,\n",
              "        0.79607844, 0.9019608 , 0.8627451 , 0.79607844, 0.        ,\n",
              "        0.        , 0.        , 0.        ],\n",
              "       [0.        , 0.        , 0.        , 0.        , 0.5411765 ,\n",
              "        0.53333336, 0.2784314 , 0.27058825, 0.21176471, 0.84705883,\n",
              "        0.8509804 , 0.79607844, 0.72156864, 0.65882355, 0.6392157 ,\n",
              "        0.63529414, 0.6392157 , 0.69803923, 0.8666667 , 0.7294118 ,\n",
              "        0.14901961, 0.10196079, 0.02745098, 0.        , 0.        ,\n",
              "        0.        , 0.        , 0.        ],\n",
              "       [0.        , 0.        , 0.        , 0.        , 0.2627451 ,\n",
              "        0.5254902 , 0.6039216 , 0.8784314 , 0.5058824 , 0.25882354,\n",
              "        0.31764707, 0.45882353, 0.5058824 , 0.5019608 , 0.5176471 ,\n",
              "        0.5372549 , 0.5137255 , 0.5058824 , 0.3372549 , 0.28627452,\n",
              "        0.6156863 , 0.5921569 , 0.5254902 , 0.84705883, 0.07058824,\n",
              "        0.        , 0.        , 0.        ],\n",
              "       [0.        , 0.        , 0.        , 0.        , 0.79607844,\n",
              "        0.7764706 , 0.6745098 , 0.7176471 , 0.80784315, 1.        ,\n",
              "        1.        , 0.98039216, 0.9529412 , 0.9411765 , 0.9372549 ,\n",
              "        0.92156863, 0.93333334, 0.95686275, 1.        , 0.93333334,\n",
              "        0.72156864, 0.627451  , 0.3372549 , 0.38431373, 0.        ,\n",
              "        0.        , 0.        , 0.        ],\n",
              "       [0.        , 0.        , 0.        , 0.        , 0.47843137,\n",
              "        0.7372549 , 0.8784314 , 0.5921569 , 0.4117647 , 0.49803922,\n",
              "        0.38039216, 0.39215687, 0.4117647 , 0.44705883, 0.45882353,\n",
              "        0.45882353, 0.44313726, 0.40392157, 0.38431373, 0.43529412,\n",
              "        0.5568628 , 0.99607843, 0.7490196 , 1.        , 0.19215687,\n",
              "        0.        , 0.        , 0.        ],\n",
              "       [0.        , 0.        , 0.        , 0.        , 0.6392157 ,\n",
              "        0.7019608 , 0.78431374, 0.37254903, 0.6039216 , 0.7764706 ,\n",
              "        0.77254903, 0.78431374, 0.78431374, 0.7764706 , 0.77254903,\n",
              "        0.7764706 , 0.78039217, 0.7921569 , 0.78431374, 0.6901961 ,\n",
              "        0.3372549 , 0.80784315, 0.6156863 , 0.63529414, 0.03921569,\n",
              "        0.        , 0.        , 0.        ],\n",
              "       [0.        , 0.        , 0.        , 0.        , 0.77254903,\n",
              "        0.7882353 , 0.8980392 , 0.2784314 , 0.5647059 , 0.7607843 ,\n",
              "        0.70980394, 0.7176471 , 0.7019608 , 0.7137255 , 0.7058824 ,\n",
              "        0.7019608 , 0.7058824 , 0.74509805, 0.7254902 , 0.77254903,\n",
              "        0.29803923, 0.85882354, 0.7254902 , 0.7882353 , 0.13333334,\n",
              "        0.        , 0.        , 0.        ],\n",
              "       [0.        , 0.        , 0.        , 0.        , 0.78039217,\n",
              "        0.75686276, 0.8862745 , 0.22745098, 0.6039216 , 0.7529412 ,\n",
              "        0.72156864, 0.73333335, 0.72156864, 0.7294118 , 0.72156864,\n",
              "        0.7254902 , 0.7176471 , 0.7529412 , 0.7490196 , 0.78431374,\n",
              "        0.21960784, 0.85882354, 0.79607844, 0.8117647 , 0.23529412,\n",
              "        0.        , 0.        , 0.        ],\n",
              "       [0.        , 0.        , 0.        , 0.        , 0.7882353 ,\n",
              "        0.7607843 , 0.8784314 , 0.16078432, 0.6392157 , 0.74509805,\n",
              "        0.7294118 , 0.7294118 , 0.72156864, 0.7254902 , 0.7176471 ,\n",
              "        0.7254902 , 0.69803923, 0.74509805, 0.7607843 , 0.7921569 ,\n",
              "        0.12941177, 0.827451  , 0.78431374, 0.80784315, 0.28627452,\n",
              "        0.        , 0.        , 0.        ],\n",
              "       [0.        , 0.        , 0.        , 0.        , 0.7882353 ,\n",
              "        0.77254903, 0.87058824, 0.06666667, 0.6745098 , 0.74509805,\n",
              "        0.7294118 , 0.73333335, 0.7137255 , 0.7294118 , 0.7254902 ,\n",
              "        0.73333335, 0.7058824 , 0.73333335, 0.75686276, 0.7921569 ,\n",
              "        0.10196079, 0.83137256, 0.7921569 , 0.79607844, 0.29803923,\n",
              "        0.        , 0.        , 0.        ],\n",
              "       [0.        , 0.        , 0.        , 0.        , 0.78431374,\n",
              "        0.77254903, 0.8745098 , 0.        , 0.69411767, 0.7411765 ,\n",
              "        0.72156864, 0.7254902 , 0.69803923, 0.72156864, 0.7176471 ,\n",
              "        0.72156864, 0.7058824 , 0.7176471 , 0.7411765 , 0.79607844,\n",
              "        0.13725491, 0.76862746, 0.79607844, 0.79607844, 0.32941177,\n",
              "        0.        , 0.        , 0.        ],\n",
              "       [0.        , 0.        , 0.        , 0.        , 0.78431374,\n",
              "        0.77254903, 0.8745098 , 0.        , 0.7254902 , 0.73333335,\n",
              "        0.7254902 , 0.73333335, 0.7058824 , 0.72156864, 0.7137255 ,\n",
              "        0.7176471 , 0.69803923, 0.7137255 , 0.7176471 , 0.8039216 ,\n",
              "        0.17254902, 0.62352943, 0.8117647 , 0.7882353 , 0.33333334,\n",
              "        0.        , 0.        , 0.        ],\n",
              "       [0.        , 0.        , 0.        , 0.        , 0.73333335,\n",
              "        0.7764706 , 0.88235295, 0.        , 0.7607843 , 0.7372549 ,\n",
              "        0.72156864, 0.7254902 , 0.7058824 , 0.7176471 , 0.7176471 ,\n",
              "        0.72156864, 0.70980394, 0.70980394, 0.69411767, 0.80784315,\n",
              "        0.18039216, 0.5058824 , 0.827451  , 0.78431374, 0.34509805,\n",
              "        0.        , 0.        , 0.        ],\n",
              "       [0.        , 0.        , 0.        , 0.02352941, 0.7294118 ,\n",
              "        0.78431374, 0.827451  , 0.        , 0.78039217, 0.7411765 ,\n",
              "        0.72156864, 0.72156864, 0.7254902 , 0.7137255 , 0.7176471 ,\n",
              "        0.72156864, 0.7254902 , 0.7137255 , 0.6862745 , 0.8039216 ,\n",
              "        0.19607843, 0.38039216, 0.84705883, 0.77254903, 0.3647059 ,\n",
              "        0.        , 0.        , 0.        ],\n",
              "       [0.        , 0.        , 0.        , 0.01960784, 0.7254902 ,\n",
              "        0.8       , 0.72156864, 0.        , 0.7921569 , 0.7372549 ,\n",
              "        0.7137255 , 0.7137255 , 0.7176471 , 0.7176471 , 0.72156864,\n",
              "        0.7137255 , 0.7058824 , 0.7137255 , 0.68235296, 0.7921569 ,\n",
              "        0.24705882, 0.23137255, 0.8627451 , 0.76862746, 0.36862746,\n",
              "        0.        , 0.        , 0.        ],\n",
              "       [0.        , 0.        , 0.        , 0.01960784, 0.72156864,\n",
              "        0.80784315, 0.6156863 , 0.        , 0.8       , 0.73333335,\n",
              "        0.73333335, 0.7411765 , 0.7529412 , 0.74509805, 0.74509805,\n",
              "        0.7490196 , 0.74509805, 0.73333335, 0.7176471 , 0.7921569 ,\n",
              "        0.30588236, 0.13725491, 0.87058824, 0.77254903, 0.37254903,\n",
              "        0.        , 0.        , 0.        ],\n",
              "       [0.        , 0.        , 0.        , 0.01960784, 0.7176471 ,\n",
              "        0.8156863 , 0.49803922, 0.        , 0.77254903, 0.6509804 ,\n",
              "        0.6       , 0.58431375, 0.58431375, 0.57254905, 0.5803922 ,\n",
              "        0.58431375, 0.5882353 , 0.5921569 , 0.61960787, 0.7490196 ,\n",
              "        0.3529412 , 0.03137255, 0.8745098 , 0.7647059 , 0.3882353 ,\n",
              "        0.        , 0.        , 0.        ],\n",
              "       [0.        , 0.        , 0.        , 0.02352941, 0.72156864,\n",
              "        0.8156863 , 0.44705883, 0.        , 0.8       , 0.6784314 ,\n",
              "        0.6313726 , 0.7058824 , 0.6901961 , 0.6745098 , 0.6784314 ,\n",
              "        0.6784314 , 0.68235296, 0.6901961 , 0.63529414, 0.7921569 ,\n",
              "        0.4509804 , 0.        , 0.8980392 , 0.78039217, 0.4117647 ,\n",
              "        0.        , 0.        , 0.        ],\n",
              "       [0.        , 0.        , 0.        , 0.03529412, 0.69803923,\n",
              "        0.8       , 0.4509804 , 0.        , 0.4745098 , 0.5294118 ,\n",
              "        0.44705883, 0.45882353, 0.44705883, 0.44705883, 0.45882353,\n",
              "        0.4627451 , 0.46666667, 0.45882353, 0.44313726, 0.5764706 ,\n",
              "        0.24705882, 0.        , 0.88235295, 0.76862746, 0.41960785,\n",
              "        0.        , 0.        , 0.        ],\n",
              "       [0.        , 0.        , 0.        , 0.07058824, 0.7058824 ,\n",
              "        0.80784315, 0.5137255 , 0.        , 0.        , 0.        ,\n",
              "        0.        , 0.        , 0.        , 0.        , 0.        ,\n",
              "        0.        , 0.        , 0.        , 0.        , 0.        ,\n",
              "        0.        , 0.        , 0.8784314 , 0.77254903, 0.48235294,\n",
              "        0.        , 0.        , 0.        ],\n",
              "       [0.        , 0.        , 0.        , 0.        , 0.5529412 ,\n",
              "        0.5921569 , 0.29803923, 0.        , 0.00392157, 0.00392157,\n",
              "        0.        , 0.        , 0.        , 0.        , 0.        ,\n",
              "        0.        , 0.        , 0.        , 0.        , 0.        ,\n",
              "        0.        , 0.        , 0.52156866, 0.654902  , 0.28627452,\n",
              "        0.        , 0.        , 0.        ]], dtype=float32)"
            ]
          },
          "metadata": {},
          "execution_count": 19
        }
      ],
      "source": [
        "x_train[5]"
      ]
    },
    {
      "cell_type": "markdown",
      "metadata": {
        "id": "GtGN_gFfPIPi"
      },
      "source": [
        "**Task 4: Reshape the X arrays to include a 4 dimension of the single channel. Similar to what we did for the numbers MNIST data set.**"
      ]
    },
    {
      "cell_type": "code",
      "execution_count": null,
      "metadata": {
        "colab": {
          "base_uri": "https://localhost:8080/"
        },
        "id": "EmMVT3bYPIPi",
        "outputId": "863b4159-6726-428d-e057-60e677f2c72d"
      },
      "outputs": [
        {
          "output_type": "execute_result",
          "data": {
            "text/plain": [
              "(60000, 28, 28)"
            ]
          },
          "metadata": {},
          "execution_count": 22
        }
      ],
      "source": [
        "x_train.shape"
      ]
    },
    {
      "cell_type": "code",
      "execution_count": null,
      "metadata": {
        "id": "yc7sekD0PIPi"
      },
      "outputs": [],
      "source": [
        "x_train=x_train.reshape(60000,28,28,1)"
      ]
    },
    {
      "cell_type": "code",
      "execution_count": null,
      "metadata": {
        "colab": {
          "base_uri": "https://localhost:8080/"
        },
        "id": "s_B67sNUPIPi",
        "outputId": "ff6d9600-e14e-4b2d-a488-20373e5e66ae"
      },
      "outputs": [
        {
          "output_type": "execute_result",
          "data": {
            "text/plain": [
              "(60000, 28, 28, 1)"
            ]
          },
          "metadata": {},
          "execution_count": 29
        }
      ],
      "source": [
        "x_train.shape"
      ]
    },
    {
      "cell_type": "code",
      "source": [
        "x_test.shape"
      ],
      "metadata": {
        "colab": {
          "base_uri": "https://localhost:8080/"
        },
        "id": "W2RnajtpT0F5",
        "outputId": "38ddee70-f9e8-496f-df23-60ccd2ffec72"
      },
      "execution_count": null,
      "outputs": [
        {
          "output_type": "execute_result",
          "data": {
            "text/plain": [
              "(10000, 28, 28)"
            ]
          },
          "metadata": {},
          "execution_count": 30
        }
      ]
    },
    {
      "cell_type": "code",
      "source": [
        "x_test=x_test.reshape(10000,28,28,1)"
      ],
      "metadata": {
        "id": "8eUrcAUjT0Iz"
      },
      "execution_count": null,
      "outputs": []
    },
    {
      "cell_type": "code",
      "source": [
        "x_train.shape, x_test.shape"
      ],
      "metadata": {
        "colab": {
          "base_uri": "https://localhost:8080/"
        },
        "id": "2xSMCMSbT0MX",
        "outputId": "14934e21-ab74-45a4-8d57-f06520d30f84"
      },
      "execution_count": null,
      "outputs": [
        {
          "output_type": "execute_result",
          "data": {
            "text/plain": [
              "((60000, 28, 28, 1), (10000, 28, 28, 1))"
            ]
          },
          "metadata": {},
          "execution_count": 35
        }
      ]
    },
    {
      "cell_type": "markdown",
      "metadata": {
        "id": "02-XUDIKPIPi"
      },
      "source": [
        "**TASK 5: Convert the y_train and y_test values to be one-hot encoded for categorical analysis by Keras.**"
      ]
    },
    {
      "cell_type": "code",
      "source": [
        "from tensorflow.keras.utils import to_categorical"
      ],
      "metadata": {
        "id": "ZW10Y1z1V_ni"
      },
      "execution_count": null,
      "outputs": []
    },
    {
      "cell_type": "code",
      "execution_count": null,
      "metadata": {
        "colab": {
          "base_uri": "https://localhost:8080/"
        },
        "id": "LHyJTRfQPIPj",
        "outputId": "a8bc64a6-b4e4-4877-f75b-18c8b3ce35ab"
      },
      "outputs": [
        {
          "output_type": "execute_result",
          "data": {
            "text/plain": [
              "(10000, 10)"
            ]
          },
          "metadata": {},
          "execution_count": 38
        }
      ],
      "source": [
        "Y_train = to_categorical(y_train,10) \n",
        "Y_test = to_categorical(y_test,10)\n",
        "Y_test.shape"
      ]
    },
    {
      "cell_type": "code",
      "execution_count": null,
      "metadata": {
        "colab": {
          "base_uri": "https://localhost:8080/"
        },
        "id": "mJoN0fW9PIPj",
        "outputId": "f293d58c-5857-4049-df11-87f53ece5698"
      },
      "outputs": [
        {
          "output_type": "execute_result",
          "data": {
            "text/plain": [
              "array([[0., 0., 0., ..., 0., 0., 1.],\n",
              "       [0., 0., 1., ..., 0., 0., 0.],\n",
              "       [0., 1., 0., ..., 0., 0., 0.],\n",
              "       ...,\n",
              "       [0., 0., 0., ..., 0., 1., 0.],\n",
              "       [0., 1., 0., ..., 0., 0., 0.],\n",
              "       [0., 0., 0., ..., 0., 0., 0.]], dtype=float32)"
            ]
          },
          "metadata": {},
          "execution_count": 39
        }
      ],
      "source": [
        "Y_test"
      ]
    },
    {
      "cell_type": "code",
      "execution_count": null,
      "metadata": {
        "id": "951GsutBPIPj"
      },
      "outputs": [],
      "source": []
    },
    {
      "cell_type": "code",
      "execution_count": null,
      "metadata": {
        "id": "XOQ9YtXAPIPj"
      },
      "outputs": [],
      "source": []
    },
    {
      "cell_type": "markdown",
      "metadata": {
        "id": "G4N9AzgOPIPj"
      },
      "source": [
        "# Modeling"
      ]
    },
    {
      "cell_type": "markdown",
      "metadata": {
        "id": "MYdmOLPoPIPj"
      },
      "source": [
        "## Create the model\n",
        "\n",
        "**TASK 5: Use Keras to create a model consisting of at least the following layers (but feel free to experiment):**\n",
        "\n",
        "* 2D Convolutional Layer, filters=28 and kernel_size=(3,3)\n",
        "* Pooling Layer where pool_size = (2,2) strides=(1,1)\n",
        "\n",
        "* Flatten Layer\n",
        "* Dense Layer (128 Neurons, but feel free to play around with this value), RELU activation\n",
        "\n",
        "* Final Dense Layer of 10 Neurons with a softmax activation\n",
        "\n",
        "**Then compile the model with these parameters: loss='categorical_crossentropy', optimizer='rmsprop', metrics=['accuracy']**"
      ]
    },
    {
      "cell_type": "code",
      "execution_count": null,
      "metadata": {
        "id": "IURxOXHzPIPk"
      },
      "outputs": [],
      "source": [
        "from tensorflow.keras.models import Sequential\n",
        "from tensorflow.keras.layers import Dense, Conv2D, MaxPool2D, Flatten, Dropout"
      ]
    },
    {
      "cell_type": "code",
      "source": [
        "model = Sequential()\n",
        "\n",
        "model.add(Conv2D(filters=28, kernel_size=(3,3), input_shape=(28, 28, 1), activation='relu', padding='same'))\n",
        "model.add(MaxPool2D(pool_size=(2, 2)))\n",
        "\n",
        "model.add(Flatten())\n",
        "\n",
        "model.add(Dense(128, activation='relu'))\n",
        "model.add(Dense(10, activation='softmax'))\n",
        "\n",
        "model.compile(loss='categorical_crossentropy',\n",
        "              optimizer='adam',\n",
        "              metrics=['accuracy'])"
      ],
      "metadata": {
        "id": "7pi4X-BwWma8"
      },
      "execution_count": 41,
      "outputs": []
    },
    {
      "cell_type": "code",
      "source": [
        "model.summary()"
      ],
      "metadata": {
        "id": "kajetOwkWmdk",
        "colab": {
          "base_uri": "https://localhost:8080/"
        },
        "outputId": "1b53536a-18f5-48ab-fb98-271d0c198a55"
      },
      "execution_count": 43,
      "outputs": [
        {
          "output_type": "stream",
          "name": "stdout",
          "text": [
            "Model: \"sequential\"\n",
            "_________________________________________________________________\n",
            " Layer (type)                Output Shape              Param #   \n",
            "=================================================================\n",
            " conv2d (Conv2D)             (None, 28, 28, 28)        280       \n",
            "                                                                 \n",
            " max_pooling2d (MaxPooling2D  (None, 14, 14, 28)       0         \n",
            " )                                                               \n",
            "                                                                 \n",
            " flatten (Flatten)           (None, 5488)              0         \n",
            "                                                                 \n",
            " dense (Dense)               (None, 128)               702592    \n",
            "                                                                 \n",
            " dense_1 (Dense)             (None, 10)                1290      \n",
            "                                                                 \n",
            "=================================================================\n",
            "Total params: 704,162\n",
            "Trainable params: 704,162\n",
            "Non-trainable params: 0\n",
            "_________________________________________________________________\n"
          ]
        }
      ]
    },
    {
      "cell_type": "code",
      "source": [],
      "metadata": {
        "id": "tj4HiNQMWmmR"
      },
      "execution_count": null,
      "outputs": []
    },
    {
      "cell_type": "markdown",
      "metadata": {
        "id": "0a4HCqL1PIPk"
      },
      "source": [
        "##  Model Training \n",
        "\n",
        "**TASK 6: Train/Fit the model to the x_train set by using EarlyStop. Amount of epochs is up to you.**"
      ]
    },
    {
      "cell_type": "code",
      "execution_count": 44,
      "metadata": {
        "id": "0-Ek7PIoPIPk"
      },
      "outputs": [],
      "source": [
        "from tensorflow.keras.callbacks import EarlyStopping"
      ]
    },
    {
      "cell_type": "code",
      "execution_count": 45,
      "metadata": {
        "id": "i9G3UosqPIPk"
      },
      "outputs": [],
      "source": [
        "early_stop = EarlyStopping(monitor='val_loss', patience=2, restore_best_weights = True)"
      ]
    },
    {
      "cell_type": "code",
      "execution_count": 46,
      "metadata": {
        "id": "D_MaXivaPIPk",
        "colab": {
          "base_uri": "https://localhost:8080/"
        },
        "outputId": "509edcf8-9438-4916-9e1c-93d60084e3f6"
      },
      "outputs": [
        {
          "output_type": "stream",
          "name": "stdout",
          "text": [
            "Epoch 1/100\n",
            "1875/1875 [==============================] - 43s 23ms/step - loss: 0.3860 - accuracy: 0.8628 - val_loss: 0.3113 - val_accuracy: 0.8871\n",
            "Epoch 2/100\n",
            "1875/1875 [==============================] - 41s 22ms/step - loss: 0.2594 - accuracy: 0.9052 - val_loss: 0.2877 - val_accuracy: 0.8954\n",
            "Epoch 3/100\n",
            "1875/1875 [==============================] - 41s 22ms/step - loss: 0.2178 - accuracy: 0.9194 - val_loss: 0.2613 - val_accuracy: 0.9045\n",
            "Epoch 4/100\n",
            "1875/1875 [==============================] - 40s 22ms/step - loss: 0.1863 - accuracy: 0.9317 - val_loss: 0.2525 - val_accuracy: 0.9058\n",
            "Epoch 5/100\n",
            "1875/1875 [==============================] - 40s 22ms/step - loss: 0.1586 - accuracy: 0.9418 - val_loss: 0.2581 - val_accuracy: 0.9106\n",
            "Epoch 6/100\n",
            "1875/1875 [==============================] - 40s 22ms/step - loss: 0.1363 - accuracy: 0.9499 - val_loss: 0.2570 - val_accuracy: 0.9122\n"
          ]
        },
        {
          "output_type": "execute_result",
          "data": {
            "text/plain": [
              "<keras.callbacks.History at 0x7fbf05ad97f0>"
            ]
          },
          "metadata": {},
          "execution_count": 46
        }
      ],
      "source": [
        "model.fit(x_train, Y_train, batch_size=32, epochs=100, validation_data=(x_test,Y_test),callbacks=[early_stop])"
      ]
    },
    {
      "cell_type": "markdown",
      "metadata": {
        "id": "rXOy8Z7iPIPk"
      },
      "source": [
        "**TASK 7: Plot values of metrics you used in your model.**"
      ]
    },
    {
      "cell_type": "code",
      "execution_count": 47,
      "metadata": {
        "id": "BB8gdBmaPIPk",
        "colab": {
          "base_uri": "https://localhost:8080/",
          "height": 238
        },
        "outputId": "ea23e1cf-bac5-4a3c-adee-92425f52f13c"
      },
      "outputs": [
        {
          "output_type": "execute_result",
          "data": {
            "text/plain": [
              "   loss  accuracy  val_loss  val_accuracy\n",
              "0 0.386     0.863     0.311         0.887\n",
              "1 0.259     0.905     0.288         0.895\n",
              "2 0.218     0.919     0.261         0.905\n",
              "3 0.186     0.932     0.252         0.906\n",
              "4 0.159     0.942     0.258         0.911\n",
              "5 0.136     0.950     0.257         0.912"
            ],
            "text/html": [
              "\n",
              "  <div id=\"df-1ebbe299-d1e6-4fe9-a974-19f2036445bf\">\n",
              "    <div class=\"colab-df-container\">\n",
              "      <div>\n",
              "<style scoped>\n",
              "    .dataframe tbody tr th:only-of-type {\n",
              "        vertical-align: middle;\n",
              "    }\n",
              "\n",
              "    .dataframe tbody tr th {\n",
              "        vertical-align: top;\n",
              "    }\n",
              "\n",
              "    .dataframe thead th {\n",
              "        text-align: right;\n",
              "    }\n",
              "</style>\n",
              "<table border=\"1\" class=\"dataframe\">\n",
              "  <thead>\n",
              "    <tr style=\"text-align: right;\">\n",
              "      <th></th>\n",
              "      <th>loss</th>\n",
              "      <th>accuracy</th>\n",
              "      <th>val_loss</th>\n",
              "      <th>val_accuracy</th>\n",
              "    </tr>\n",
              "  </thead>\n",
              "  <tbody>\n",
              "    <tr>\n",
              "      <th>0</th>\n",
              "      <td>0.386</td>\n",
              "      <td>0.863</td>\n",
              "      <td>0.311</td>\n",
              "      <td>0.887</td>\n",
              "    </tr>\n",
              "    <tr>\n",
              "      <th>1</th>\n",
              "      <td>0.259</td>\n",
              "      <td>0.905</td>\n",
              "      <td>0.288</td>\n",
              "      <td>0.895</td>\n",
              "    </tr>\n",
              "    <tr>\n",
              "      <th>2</th>\n",
              "      <td>0.218</td>\n",
              "      <td>0.919</td>\n",
              "      <td>0.261</td>\n",
              "      <td>0.905</td>\n",
              "    </tr>\n",
              "    <tr>\n",
              "      <th>3</th>\n",
              "      <td>0.186</td>\n",
              "      <td>0.932</td>\n",
              "      <td>0.252</td>\n",
              "      <td>0.906</td>\n",
              "    </tr>\n",
              "    <tr>\n",
              "      <th>4</th>\n",
              "      <td>0.159</td>\n",
              "      <td>0.942</td>\n",
              "      <td>0.258</td>\n",
              "      <td>0.911</td>\n",
              "    </tr>\n",
              "    <tr>\n",
              "      <th>5</th>\n",
              "      <td>0.136</td>\n",
              "      <td>0.950</td>\n",
              "      <td>0.257</td>\n",
              "      <td>0.912</td>\n",
              "    </tr>\n",
              "  </tbody>\n",
              "</table>\n",
              "</div>\n",
              "      <button class=\"colab-df-convert\" onclick=\"convertToInteractive('df-1ebbe299-d1e6-4fe9-a974-19f2036445bf')\"\n",
              "              title=\"Convert this dataframe to an interactive table.\"\n",
              "              style=\"display:none;\">\n",
              "        \n",
              "  <svg xmlns=\"http://www.w3.org/2000/svg\" height=\"24px\"viewBox=\"0 0 24 24\"\n",
              "       width=\"24px\">\n",
              "    <path d=\"M0 0h24v24H0V0z\" fill=\"none\"/>\n",
              "    <path d=\"M18.56 5.44l.94 2.06.94-2.06 2.06-.94-2.06-.94-.94-2.06-.94 2.06-2.06.94zm-11 1L8.5 8.5l.94-2.06 2.06-.94-2.06-.94L8.5 2.5l-.94 2.06-2.06.94zm10 10l.94 2.06.94-2.06 2.06-.94-2.06-.94-.94-2.06-.94 2.06-2.06.94z\"/><path d=\"M17.41 7.96l-1.37-1.37c-.4-.4-.92-.59-1.43-.59-.52 0-1.04.2-1.43.59L10.3 9.45l-7.72 7.72c-.78.78-.78 2.05 0 2.83L4 21.41c.39.39.9.59 1.41.59.51 0 1.02-.2 1.41-.59l7.78-7.78 2.81-2.81c.8-.78.8-2.07 0-2.86zM5.41 20L4 18.59l7.72-7.72 1.47 1.35L5.41 20z\"/>\n",
              "  </svg>\n",
              "      </button>\n",
              "      \n",
              "  <style>\n",
              "    .colab-df-container {\n",
              "      display:flex;\n",
              "      flex-wrap:wrap;\n",
              "      gap: 12px;\n",
              "    }\n",
              "\n",
              "    .colab-df-convert {\n",
              "      background-color: #E8F0FE;\n",
              "      border: none;\n",
              "      border-radius: 50%;\n",
              "      cursor: pointer;\n",
              "      display: none;\n",
              "      fill: #1967D2;\n",
              "      height: 32px;\n",
              "      padding: 0 0 0 0;\n",
              "      width: 32px;\n",
              "    }\n",
              "\n",
              "    .colab-df-convert:hover {\n",
              "      background-color: #E2EBFA;\n",
              "      box-shadow: 0px 1px 2px rgba(60, 64, 67, 0.3), 0px 1px 3px 1px rgba(60, 64, 67, 0.15);\n",
              "      fill: #174EA6;\n",
              "    }\n",
              "\n",
              "    [theme=dark] .colab-df-convert {\n",
              "      background-color: #3B4455;\n",
              "      fill: #D2E3FC;\n",
              "    }\n",
              "\n",
              "    [theme=dark] .colab-df-convert:hover {\n",
              "      background-color: #434B5C;\n",
              "      box-shadow: 0px 1px 3px 1px rgba(0, 0, 0, 0.15);\n",
              "      filter: drop-shadow(0px 1px 2px rgba(0, 0, 0, 0.3));\n",
              "      fill: #FFFFFF;\n",
              "    }\n",
              "  </style>\n",
              "\n",
              "      <script>\n",
              "        const buttonEl =\n",
              "          document.querySelector('#df-1ebbe299-d1e6-4fe9-a974-19f2036445bf button.colab-df-convert');\n",
              "        buttonEl.style.display =\n",
              "          google.colab.kernel.accessAllowed ? 'block' : 'none';\n",
              "\n",
              "        async function convertToInteractive(key) {\n",
              "          const element = document.querySelector('#df-1ebbe299-d1e6-4fe9-a974-19f2036445bf');\n",
              "          const dataTable =\n",
              "            await google.colab.kernel.invokeFunction('convertToInteractive',\n",
              "                                                     [key], {});\n",
              "          if (!dataTable) return;\n",
              "\n",
              "          const docLinkHtml = 'Like what you see? Visit the ' +\n",
              "            '<a target=\"_blank\" href=https://colab.research.google.com/notebooks/data_table.ipynb>data table notebook</a>'\n",
              "            + ' to learn more about interactive tables.';\n",
              "          element.innerHTML = '';\n",
              "          dataTable['output_type'] = 'display_data';\n",
              "          await google.colab.output.renderOutput(dataTable, element);\n",
              "          const docLink = document.createElement('div');\n",
              "          docLink.innerHTML = docLinkHtml;\n",
              "          element.appendChild(docLink);\n",
              "        }\n",
              "      </script>\n",
              "    </div>\n",
              "  </div>\n",
              "  "
            ]
          },
          "metadata": {},
          "execution_count": 47
        }
      ],
      "source": [
        "summary = pd.DataFrame(model.history.history)\n",
        "summary.head(7)"
      ]
    },
    {
      "cell_type": "code",
      "execution_count": 48,
      "metadata": {
        "id": "-12a4eRQPIPl",
        "colab": {
          "base_uri": "https://localhost:8080/",
          "height": 374
        },
        "outputId": "4f19aa05-1373-41c2-df99-6c8820065d0f"
      },
      "outputs": [
        {
          "output_type": "display_data",
          "data": {
            "text/plain": [
              "<Figure size 720x432 with 1 Axes>"
            ],
            "image/png": "[encoded data removed]"
          },
          "metadata": {}
        }
      ],
      "source": [
        "summary[[\"loss\", \"val_loss\"]].plot();"
      ]
    },
    {
      "cell_type": "code",
      "source": [
        "summary[[\"accuracy\", \"val_accuracy\"]].plot();"
      ],
      "metadata": {
        "colab": {
          "base_uri": "https://localhost:8080/",
          "height": 374
        },
        "id": "0A-bT7I0a8gi",
        "outputId": "ab5d127d-6cbc-41c6-c52a-6f2f5b0e6776"
      },
      "execution_count": 49,
      "outputs": [
        {
          "output_type": "display_data",
          "data": {
            "text/plain": [
              "<Figure size 720x432 with 1 Axes>"
            ],
            "image/png": "[encoded data removed]"
          },
          "metadata": {}
        }
      ]
    },
    {
      "cell_type": "code",
      "source": [],
      "metadata": {
        "id": "eFQAT-lua8jl"
      },
      "execution_count": null,
      "outputs": []
    },
    {
      "cell_type": "code",
      "source": [],
      "metadata": {
        "id": "cTyzQUlta8mR"
      },
      "execution_count": null,
      "outputs": []
    },
    {
      "cell_type": "code",
      "source": [],
      "metadata": {
        "id": "hD47J_eka8p8"
      },
      "execution_count": null,
      "outputs": []
    },
    {
      "cell_type": "markdown",
      "metadata": {
        "id": "FreOAiAIPIPl"
      },
      "source": [
        "## Model Evaluation\n",
        "\n",
        "**TASK 8: Show the accuracy,precision,recall,f1-score the model achieved on the x_test data set. Keep in mind, there are quite a few ways to do this, but we recommend following the same procedure we showed in the MNIST lecture.**"
      ]
    },
    {
      "cell_type": "code",
      "execution_count": 52,
      "metadata": {
        "id": "TA9Ptn_PPIPl"
      },
      "outputs": [],
      "source": [
        "from sklearn.metrics import classification_report, confusion_matrix,multilabel_confusion_matrix"
      ]
    },
    {
      "cell_type": "code",
      "execution_count": 54,
      "metadata": {
        "id": "yh1VSnmaPIPl",
        "colab": {
          "base_uri": "https://localhost:8080/"
        },
        "outputId": "e4a0d3cc-3195-4010-a56f-d17c6c023977"
      },
      "outputs": [
        {
          "output_type": "stream",
          "name": "stdout",
          "text": [
            "313/313 [==============================] - 2s 8ms/step - loss: 0.2525 - accuracy: 0.9058\n"
          ]
        },
        {
          "output_type": "execute_result",
          "data": {
            "text/plain": [
              "[0.2524797022342682, 0.9057999849319458]"
            ]
          },
          "metadata": {},
          "execution_count": 54
        }
      ],
      "source": [
        "model.evaluate(x_test,Y_test)"
      ]
    },
    {
      "cell_type": "code",
      "execution_count": 55,
      "metadata": {
        "id": "xk6Q8qGVPIPl",
        "colab": {
          "base_uri": "https://localhost:8080/"
        },
        "outputId": "98d0c647-c167-4d4f-9a73-e9ce648d7e61"
      },
      "outputs": [
        {
          "output_type": "stream",
          "name": "stdout",
          "text": [
            "Test loss: 0.2524797022342682\n",
            "Test accuracy: 0.9057999849319458\n"
          ]
        }
      ],
      "source": [
        "score = model.evaluate(x_test, Y_test, verbose=0)\n",
        "print('Test loss:', score[0])\n",
        "print('Test accuracy:', score[1])"
      ]
    },
    {
      "cell_type": "code",
      "execution_count": 57,
      "metadata": {
        "id": "nEYMl9dBPIPl",
        "colab": {
          "base_uri": "https://localhost:8080/"
        },
        "outputId": "afe40b72-0389-4109-c0e8-3c72f5b886cc"
      },
      "outputs": [
        {
          "output_type": "stream",
          "name": "stdout",
          "text": [
            "313/313 [==============================] - 2s 7ms/step\n"
          ]
        },
        {
          "output_type": "execute_result",
          "data": {
            "text/plain": [
              "array([[3.8164458e-06, 3.6529528e-09, 2.2577819e-06, ..., 2.4553799e-04,\n",
              "        8.8130255e-06, 9.9810261e-01],\n",
              "       [1.4401152e-04, 4.8088204e-11, 9.9977303e-01, ..., 2.9586401e-12,\n",
              "        1.5371608e-08, 4.1477641e-11],\n",
              "       [3.1637651e-07, 9.9999958e-01, 1.2736259e-09, ..., 1.8799537e-13,\n",
              "        5.4644524e-09, 1.2717020e-11],\n",
              "       ...,\n",
              "       [3.5444325e-05, 6.7931931e-09, 1.8018105e-05, ..., 9.8653025e-08,\n",
              "        9.9851120e-01, 1.0910568e-07],\n",
              "       [1.1423560e-06, 9.9999720e-01, 7.7115354e-09, ..., 6.6211549e-14,\n",
              "        1.0416601e-09, 3.2450770e-10],\n",
              "       [5.6428585e-04, 1.4358520e-05, 4.5034313e-03, ..., 3.4118310e-02,\n",
              "        2.1034986e-02, 1.1247728e-02]], dtype=float32)"
            ]
          },
          "metadata": {},
          "execution_count": 57
        }
      ],
      "source": [
        "pred_prob = model.predict(x_test)\n",
        "pred_prob"
      ]
    },
    {
      "cell_type": "code",
      "source": [
        "y_pred = np.argmax(pred_prob, axis=1)\n",
        "y_pred"
      ],
      "metadata": {
        "colab": {
          "base_uri": "https://localhost:8080/"
        },
        "id": "rRZO_JS4b7kr",
        "outputId": "bb995cd4-d989-4898-a4fe-b067a9259563"
      },
      "execution_count": 58,
      "outputs": [
        {
          "output_type": "execute_result",
          "data": {
            "text/plain": [
              "array([9, 2, 1, ..., 8, 1, 5])"
            ]
          },
          "metadata": {},
          "execution_count": 58
        }
      ]
    },
    {
      "cell_type": "code",
      "source": [
        "print(classification_report(y_test, y_pred))"
      ],
      "metadata": {
        "colab": {
          "base_uri": "https://localhost:8080/"
        },
        "id": "-ZcuweZsb7oL",
        "outputId": "84dccd5a-32cd-42e7-b066-2a6d88e5cfd8"
      },
      "execution_count": 59,
      "outputs": [
        {
          "output_type": "stream",
          "name": "stdout",
          "text": [
            "              precision    recall  f1-score   support\n",
            "\n",
            "           0       0.90      0.80      0.85      1000\n",
            "           1       0.99      0.98      0.99      1000\n",
            "           2       0.88      0.83      0.86      1000\n",
            "           3       0.91      0.92      0.92      1000\n",
            "           4       0.86      0.84      0.85      1000\n",
            "           5       0.97      0.99      0.98      1000\n",
            "           6       0.69      0.82      0.75      1000\n",
            "           7       0.98      0.91      0.94      1000\n",
            "           8       0.98      0.98      0.98      1000\n",
            "           9       0.93      0.98      0.95      1000\n",
            "\n",
            "    accuracy                           0.91     10000\n",
            "   macro avg       0.91      0.91      0.91     10000\n",
            "weighted avg       0.91      0.91      0.91     10000\n",
            "\n"
          ]
        }
      ]
    },
    {
      "cell_type": "code",
      "source": [
        "print(confusion_matrix(y_test, y_pred))"
      ],
      "metadata": {
        "colab": {
          "base_uri": "https://localhost:8080/"
        },
        "id": "G576SUAYcVlf",
        "outputId": "78c53c1c-b5c3-41fd-c9ae-5003a375b326"
      },
      "execution_count": 60,
      "outputs": [
        {
          "output_type": "stream",
          "name": "stdout",
          "text": [
            "[[801   0  17  19   3   2 153   0   5   0]\n",
            " [  0 983   0  10   4   0   2   0   1   0]\n",
            " [ 13   1 834   7  59   1  84   0   1   0]\n",
            " [  7   5   7 923  24   0  32   0   2   0]\n",
            " [  1   1  47  26 841   0  84   0   0   0]\n",
            " [  0   0   0   0   0 987   0   3   0  10]\n",
            " [ 66   0  41  27  40   0 819   0   7   0]\n",
            " [  0   0   0   0   0  25   0 909   1  65]\n",
            " [  2   1   0   4   2   3   7   1 980   0]\n",
            " [  0   0   0   0   0   4   1  14   0 981]]\n"
          ]
        }
      ]
    },
    {
      "cell_type": "code",
      "source": [
        "plt.figure(figsize=(15,10))\n",
        "sns.heatmap(confusion_matrix(y_test, y_pred), annot=True, cmap=\"Blues\", linewidths=.5, linecolor='black', fmt='g', annot_kws = {\"size\": 15})"
      ],
      "metadata": {
        "colab": {
          "base_uri": "https://localhost:8080/",
          "height": 609
        },
        "id": "sIAI9LoocVoN",
        "outputId": "5e427e96-3277-4634-fe92-da5e4b54762e"
      },
      "execution_count": 61,
      "outputs": [
        {
          "output_type": "execute_result",
          "data": {
            "text/plain": [
              "<matplotlib.axes._subplots.AxesSubplot at 0x7fbf00fe5a60>"
            ]
          },
          "metadata": {},
          "execution_count": 61
        },
        {
          "output_type": "display_data",
          "data": {
            "text/plain": [
              "<Figure size 1080x720 with 2 Axes>"
            ],
            "image/png": "[encoded data removed]"
          },
          "metadata": {}
        }
      ]
    },
    {
      "cell_type": "code",
      "source": [],
      "metadata": {
        "id": "8qNxbWT8cVzy"
      },
      "execution_count": null,
      "outputs": []
    },
    {
      "cell_type": "markdown",
      "metadata": {
        "id": "ftS22DcSPIPl"
      },
      "source": [
        "## Prediction"
      ]
    },
    {
      "cell_type": "code",
      "execution_count": 62,
      "metadata": {
        "id": "xFZZywbJPIPm"
      },
      "outputs": [],
      "source": [
        "my_number = x_test[3]"
      ]
    },
    {
      "cell_type": "code",
      "execution_count": 63,
      "metadata": {
        "id": "lFyOUL31PIPm",
        "colab": {
          "base_uri": "https://localhost:8080/",
          "height": 374
        },
        "outputId": "98e7de28-c53f-4440-f1b9-df5dcad95cd1"
      },
      "outputs": [
        {
          "output_type": "display_data",
          "data": {
            "text/plain": [
              "<Figure size 720x432 with 1 Axes>"
            ],
            "image/png": "[encoded data removed]"
          },
          "metadata": {}
        }
      ],
      "source": [
        "plt.imshow(my_number.reshape(28,28));"
      ]
    },
    {
      "cell_type": "code",
      "source": [
        "pred_prob = model.predict(my_number.reshape(1,28,28,1))\n",
        "pred_prob"
      ],
      "metadata": {
        "colab": {
          "base_uri": "https://localhost:8080/"
        },
        "id": "U8_Pb6blc1J5",
        "outputId": "101d0f8a-9f57-4c8d-bf4b-964bbecff7dc"
      },
      "execution_count": 64,
      "outputs": [
        {
          "output_type": "stream",
          "name": "stdout",
          "text": [
            "1/1 [==============================] - 0s 34ms/step\n"
          ]
        },
        {
          "output_type": "execute_result",
          "data": {
            "text/plain": [
              "array([[2.3700941e-06, 9.9999475e-01, 3.5598957e-09, 1.6540591e-06,\n",
              "        9.4656184e-07, 1.1158783e-09, 2.1307403e-07, 1.4267380e-12,\n",
              "        5.7766503e-09, 8.2729290e-10]], dtype=float32)"
            ]
          },
          "metadata": {},
          "execution_count": 64
        }
      ]
    },
    {
      "cell_type": "code",
      "source": [
        "y_pred = np.argmax(pred_prob)\n",
        "y_pred"
      ],
      "metadata": {
        "colab": {
          "base_uri": "https://localhost:8080/"
        },
        "id": "NcABHHNHc1Mr",
        "outputId": "14463103-3304-46cf-8358-b522787ea04f"
      },
      "execution_count": 65,
      "outputs": [
        {
          "output_type": "execute_result",
          "data": {
            "text/plain": [
              "1"
            ]
          },
          "metadata": {},
          "execution_count": 65
        }
      ]
    },
    {
      "cell_type": "code",
      "source": [
        "model.save(\"cnn-1.h5\")"
      ],
      "metadata": {
        "id": "MV9-PaMHc1QH"
      },
      "execution_count": 66,
      "outputs": []
    },
    {
      "cell_type": "code",
      "source": [
        "model=tf.keras.models.load_model('cnn-1.h5')"
      ],
      "metadata": {
        "id": "mTcaj7C4dbvF"
      },
      "execution_count": 67,
      "outputs": []
    },
    {
      "cell_type": "code",
      "execution_count": 68,
      "metadata": {
        "id": "KM_yvYZUkdro",
        "colab": {
          "base_uri": "https://localhost:8080/"
        },
        "outputId": "5432f272-6927-4095-c88d-b7d75f141c3c"
      },
      "outputs": [
        {
          "output_type": "stream",
          "name": "stdout",
          "text": [
            "1/1 [==============================] - 0s 118ms/step\n"
          ]
        }
      ],
      "source": [
        "pred=model.predict(np.expand_dims(x_test[24],axis=0))"
      ]
    },
    {
      "cell_type": "code",
      "execution_count": 69,
      "metadata": {
        "colab": {
          "base_uri": "https://localhost:8080/"
        },
        "id": "r2_GU2pile0u",
        "outputId": "c3ce6221-df43-4fde-eda8-a20acde8b001"
      },
      "outputs": [
        {
          "output_type": "execute_result",
          "data": {
            "text/plain": [
              "1"
            ]
          },
          "metadata": {},
          "execution_count": 69
        }
      ],
      "source": [
        "np.argmax(pred)"
      ]
    },
    {
      "cell_type": "code",
      "execution_count": 71,
      "metadata": {
        "colab": {
          "base_uri": "https://localhost:8080/",
          "height": 391
        },
        "id": "5oyYgdmillYZ",
        "outputId": "66a84622-81e4-4b3b-a87a-d52a0e90bf3c"
      },
      "outputs": [
        {
          "output_type": "execute_result",
          "data": {
            "text/plain": [
              "<matplotlib.image.AxesImage at 0x7fbefec55f70>"
            ]
          },
          "metadata": {},
          "execution_count": 71
        },
        {
          "output_type": "display_data",
          "data": {
            "text/plain": [
              "<Figure size 720x432 with 1 Axes>"
            ],
            "image/png": "[encoded data removed]"
          },
          "metadata": {}
        }
      ],
      "source": [
        "plt.imshow(x_test[24].reshape(28,28))"
      ]
    },
    {
      "cell_type": "code",
      "source": [],
      "metadata": {
        "id": "rejhqn9kdb0j"
      },
      "execution_count": null,
      "outputs": []
    },
    {
      "cell_type": "code",
      "source": [],
      "metadata": {
        "id": "KbTc_UoQdb3S"
      },
      "execution_count": null,
      "outputs": []
    },
    {
      "cell_type": "code",
      "source": [],
      "metadata": {
        "id": "i7KxZqnsdb59"
      },
      "execution_count": null,
      "outputs": []
    },
    {
      "cell_type": "code",
      "source": [],
      "metadata": {
        "id": "rqqa42DFdb8m"
      },
      "execution_count": null,
      "outputs": []
    },
    {
      "cell_type": "code",
      "source": [],
      "metadata": {
        "id": "Hn1WogwCdb_c"
      },
      "execution_count": null,
      "outputs": []
    },
    {
      "cell_type": "code",
      "source": [],
      "metadata": {
        "id": "WanVoASHdcCz"
      },
      "execution_count": null,
      "outputs": []
    },
    {
      "cell_type": "markdown",
      "metadata": {
        "id": "P6dW3F5TPIPm"
      },
      "source": [
        "# End of Assignment"
      ]
    },
    {
      "cell_type": "markdown",
      "metadata": {
        "id": "NrHm77UfPIPm"
      },
      "source": [
        "___\n",
        "\n",
        "<p style=\"text-align: center;\"><img src=\"https://docs.google.com/uc?id=1lY0Uj5R04yMY3-ZppPWxqCr5pvBLYPnV\" class=\"img-fluid\" alt=\"CLRSWY\"></p>\n",
        "\n",
        "___"
      ]
    }
  ],
  "metadata": {
    "kernelspec": {
      "display_name": "Python 3",
      "language": "python",
      "name": "python3"
    },
    "language_info": {
      "codemirror_mode": {
        "name": "ipython",
        "version": 3
      },
      "file_extension": ".py",
      "mimetype": "text/x-python",
      "name": "python",
      "nbconvert_exporter": "python",
      "pygments_lexer": "ipython3",
      "version": "3.7.6"
    },
    "toc": {
      "base_numbering": 1,
      "nav_menu": {},
      "number_sections": false,
      "sideBar": true,
      "skip_h1_title": false,
      "title_cell": "Table of Contents",
      "title_sidebar": "Contents",
      "toc_cell": false,
      "toc_position": {},
      "toc_section_display": true,
      "toc_window_display": true
    },
    "colab": {
      "provenance": [],
      "include_colab_link": true
    }
  },
  "nbformat": 4,
  "nbformat_minor": 0
}